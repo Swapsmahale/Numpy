{
 "cells": [
  {
   "cell_type": "code",
   "execution_count": 1,
   "id": "9fcb9345",
   "metadata": {},
   "outputs": [],
   "source": [
    "import numpy as np"
   ]
  },
  {
   "cell_type": "markdown",
   "id": "27902133",
   "metadata": {},
   "source": [
    "## 1D Array"
   ]
  },
  {
   "cell_type": "code",
   "execution_count": 15,
   "id": "b16455e7",
   "metadata": {},
   "outputs": [
    {
     "name": "stdout",
     "output_type": "stream",
     "text": [
      "[1 2 3 4]\n"
     ]
    }
   ],
   "source": [
    "list1=[1,2,3,4]\n",
    "one_D=np.array(list1)\n",
    "print(one_D)"
   ]
  },
  {
   "cell_type": "code",
   "execution_count": 17,
   "id": "d63fb55b",
   "metadata": {},
   "outputs": [
    {
     "name": "stdout",
     "output_type": "stream",
     "text": [
      "<class 'numpy.ndarray'>\n"
     ]
    }
   ],
   "source": [
    "print(type(one_D))"
   ]
  },
  {
   "cell_type": "code",
   "execution_count": 18,
   "id": "7ec20f75",
   "metadata": {},
   "outputs": [
    {
     "data": {
      "text/plain": [
       "1"
      ]
     },
     "execution_count": 18,
     "metadata": {},
     "output_type": "execute_result"
    }
   ],
   "source": [
    "one_D.ndim"
   ]
  },
  {
   "cell_type": "markdown",
   "id": "c1cc4791",
   "metadata": {},
   "source": [
    "## 2D Array"
   ]
  },
  {
   "cell_type": "code",
   "execution_count": 19,
   "id": "7657f739",
   "metadata": {},
   "outputs": [
    {
     "name": "stdout",
     "output_type": "stream",
     "text": [
      "[[ 1  2  3  4  5  6  7  8  9 10]]\n"
     ]
    }
   ],
   "source": [
    "list2=list(range(1,11))\n",
    "two_D=np.array([list2])\n",
    "print(two_D)"
   ]
  },
  {
   "cell_type": "code",
   "execution_count": 20,
   "id": "763f697d",
   "metadata": {},
   "outputs": [
    {
     "name": "stdout",
     "output_type": "stream",
     "text": [
      "<class 'numpy.ndarray'>\n"
     ]
    }
   ],
   "source": [
    "print(type(two_D))"
   ]
  },
  {
   "cell_type": "code",
   "execution_count": 21,
   "id": "e0f03213",
   "metadata": {},
   "outputs": [
    {
     "name": "stdout",
     "output_type": "stream",
     "text": [
      "2\n"
     ]
    }
   ],
   "source": [
    "print(two_D.ndim)"
   ]
  },
  {
   "cell_type": "markdown",
   "id": "29cd4a22",
   "metadata": {},
   "source": [
    "## 3D Array"
   ]
  },
  {
   "cell_type": "code",
   "execution_count": 23,
   "id": "30820116",
   "metadata": {},
   "outputs": [
    {
     "name": "stdout",
     "output_type": "stream",
     "text": [
      "[[[1 2 3]\n",
      "  [4 5 6]\n",
      "  [7 8 9]]]\n"
     ]
    }
   ],
   "source": [
    "list3=[[1,2,3],[4,5,6],[7,8,9]]\n",
    "three_D=np.array([list3])\n",
    "print(three_D)"
   ]
  },
  {
   "cell_type": "code",
   "execution_count": 24,
   "id": "0d50efb8",
   "metadata": {},
   "outputs": [
    {
     "name": "stdout",
     "output_type": "stream",
     "text": [
      "3\n"
     ]
    }
   ],
   "source": [
    "print(three_D.ndim)"
   ]
  },
  {
   "cell_type": "code",
   "execution_count": 29,
   "id": "88c3a9b1",
   "metadata": {},
   "outputs": [],
   "source": [
    "def info(x):\n",
    "    print(\"The type of element is:-\",type(x))\n",
    "    print(\"The dimension of Array is:-\",x.ndim)"
   ]
  },
  {
   "cell_type": "code",
   "execution_count": 30,
   "id": "ce498ec8",
   "metadata": {},
   "outputs": [
    {
     "name": "stdout",
     "output_type": "stream",
     "text": [
      "The type of element is:- <class 'numpy.ndarray'>\n",
      "The dimension of Array is:- 3\n"
     ]
    }
   ],
   "source": [
    "info(three_D)"
   ]
  },
  {
   "cell_type": "code",
   "execution_count": null,
   "id": "d650fc55",
   "metadata": {},
   "outputs": [],
   "source": []
  },
  {
   "cell_type": "code",
   "execution_count": 31,
   "id": "2cf50e34",
   "metadata": {},
   "outputs": [
    {
     "data": {
      "text/plain": [
       "[1, 1.5, 'Swapnil']"
      ]
     },
     "execution_count": 31,
     "metadata": {},
     "output_type": "execute_result"
    }
   ],
   "source": [
    "list11=[1,1.5,\"Swapnil\"]\n",
    "list11"
   ]
  },
  {
   "cell_type": "code",
   "execution_count": 32,
   "id": "dfb16ee0",
   "metadata": {},
   "outputs": [],
   "source": [
    "arr=list(range(1,11))\n",
    "numpy=np.array(arr)"
   ]
  },
  {
   "cell_type": "code",
   "execution_count": 33,
   "id": "cbe7d33d",
   "metadata": {},
   "outputs": [
    {
     "data": {
      "text/plain": [
       "array([ 1,  2,  3,  4,  5,  6,  7,  8,  9, 10])"
      ]
     },
     "execution_count": 33,
     "metadata": {},
     "output_type": "execute_result"
    }
   ],
   "source": [
    "numpy"
   ]
  },
  {
   "cell_type": "code",
   "execution_count": null,
   "id": "1747f858",
   "metadata": {},
   "outputs": [],
   "source": []
  },
  {
   "cell_type": "code",
   "execution_count": 35,
   "id": "00e4e75f",
   "metadata": {},
   "outputs": [
    {
     "data": {
      "text/plain": [
       "array(['1', '1.5', 'Swapnil'], dtype='<U32')"
      ]
     },
     "execution_count": 35,
     "metadata": {},
     "output_type": "execute_result"
    }
   ],
   "source": [
    "hetero_numpy=np.array(list11)\n",
    "hetero_numpy"
   ]
  },
  {
   "cell_type": "code",
   "execution_count": 39,
   "id": "f3987f83",
   "metadata": {},
   "outputs": [
    {
     "data": {
      "text/plain": [
       "dtype('<U32')"
      ]
     },
     "execution_count": 39,
     "metadata": {},
     "output_type": "execute_result"
    }
   ],
   "source": [
    "hetero_numpy.dtype"
   ]
  },
  {
   "cell_type": "code",
   "execution_count": null,
   "id": "65e262ce",
   "metadata": {},
   "outputs": [],
   "source": []
  },
  {
   "cell_type": "code",
   "execution_count": 40,
   "id": "fb7d49de",
   "metadata": {},
   "outputs": [
    {
     "name": "stdout",
     "output_type": "stream",
     "text": [
      "[ 5 10 15 20 25]\n"
     ]
    }
   ],
   "source": [
    "array1=np.array([5,10,15,20,25])\n",
    "print(array1)"
   ]
  },
  {
   "cell_type": "code",
   "execution_count": 41,
   "id": "74c74f0f",
   "metadata": {},
   "outputs": [
    {
     "data": {
      "text/plain": [
       "array([1., 2., 3., 4., 5.])"
      ]
     },
     "execution_count": 41,
     "metadata": {},
     "output_type": "execute_result"
    }
   ],
   "source": [
    "array1/5"
   ]
  },
  {
   "cell_type": "code",
   "execution_count": 42,
   "id": "45b2f8ca",
   "metadata": {},
   "outputs": [
    {
     "name": "stdout",
     "output_type": "stream",
     "text": [
      "[5, 10, 15, 20, 25]\n"
     ]
    }
   ],
   "source": [
    "list12=[5,10,15,20,25]\n",
    "print(list12)"
   ]
  },
  {
   "cell_type": "code",
   "execution_count": 43,
   "id": "b48d9ed7",
   "metadata": {},
   "outputs": [
    {
     "ename": "TypeError",
     "evalue": "unsupported operand type(s) for /: 'list' and 'int'",
     "output_type": "error",
     "traceback": [
      "\u001b[1;31m---------------------------------------------------------------------------\u001b[0m",
      "\u001b[1;31mTypeError\u001b[0m                                 Traceback (most recent call last)",
      "Cell \u001b[1;32mIn[43], line 1\u001b[0m\n\u001b[1;32m----> 1\u001b[0m \u001b[43mlist12\u001b[49m\u001b[38;5;241;43m/\u001b[39;49m\u001b[38;5;241;43m5\u001b[39;49m\n",
      "\u001b[1;31mTypeError\u001b[0m: unsupported operand type(s) for /: 'list' and 'int'"
     ]
    }
   ],
   "source": [
    "list12/5"
   ]
  },
  {
   "cell_type": "code",
   "execution_count": null,
   "id": "d86f460c",
   "metadata": {},
   "outputs": [],
   "source": []
  },
  {
   "cell_type": "code",
   "execution_count": 48,
   "id": "089e9a16",
   "metadata": {},
   "outputs": [
    {
     "data": {
      "text/plain": [
       "[[1, 2, 3], [4, 5, 6], [7, 8, 9]]"
      ]
     },
     "execution_count": 48,
     "metadata": {},
     "output_type": "execute_result"
    }
   ],
   "source": [
    "b=[[1,2,3],[4,5,6],[7,8,9]]\n",
    "b"
   ]
  },
  {
   "cell_type": "code",
   "execution_count": 49,
   "id": "0bb91f0d",
   "metadata": {},
   "outputs": [
    {
     "data": {
      "text/plain": [
       "array([[1, 2, 3],\n",
       "       [4, 5, 6],\n",
       "       [7, 8, 9]])"
      ]
     },
     "execution_count": 49,
     "metadata": {},
     "output_type": "execute_result"
    }
   ],
   "source": [
    "B=np.array(b)\n",
    "B"
   ]
  },
  {
   "cell_type": "code",
   "execution_count": 50,
   "id": "97a36833",
   "metadata": {},
   "outputs": [],
   "source": [
    "New_B=B.reshape(9)"
   ]
  },
  {
   "cell_type": "code",
   "execution_count": 51,
   "id": "59c00347",
   "metadata": {},
   "outputs": [
    {
     "data": {
      "text/plain": [
       "array([1, 2, 3, 4, 5, 6, 7, 8, 9])"
      ]
     },
     "execution_count": 51,
     "metadata": {},
     "output_type": "execute_result"
    }
   ],
   "source": [
    "New_B"
   ]
  },
  {
   "cell_type": "code",
   "execution_count": 52,
   "id": "cd3c08c2",
   "metadata": {},
   "outputs": [
    {
     "data": {
      "text/plain": [
       "[[1, 2, 3, 4], [4, 5, 6, 7], [7, 8, 9, 10]]"
      ]
     },
     "execution_count": 52,
     "metadata": {},
     "output_type": "execute_result"
    }
   ],
   "source": [
    "c=[[1,2,3,4],[4,5,6,7],[7,8,9,10]]\n",
    "c"
   ]
  },
  {
   "cell_type": "code",
   "execution_count": 54,
   "id": "d9cb9021",
   "metadata": {},
   "outputs": [
    {
     "data": {
      "text/plain": [
       "array([[ 1,  2,  3,  4],\n",
       "       [ 4,  5,  6,  7],\n",
       "       [ 7,  8,  9, 10]])"
      ]
     },
     "execution_count": 54,
     "metadata": {},
     "output_type": "execute_result"
    }
   ],
   "source": [
    "C=np.array(c)\n",
    "C"
   ]
  },
  {
   "cell_type": "code",
   "execution_count": 55,
   "id": "02b0864a",
   "metadata": {},
   "outputs": [
    {
     "data": {
      "text/plain": [
       "array([[ 1,  2,  3],\n",
       "       [ 4,  4,  5],\n",
       "       [ 6,  7,  7],\n",
       "       [ 8,  9, 10]])"
      ]
     },
     "execution_count": 55,
     "metadata": {},
     "output_type": "execute_result"
    }
   ],
   "source": [
    "New_C=C.reshape(4,-1)\n",
    "New_C"
   ]
  },
  {
   "cell_type": "code",
   "execution_count": 57,
   "id": "b22668c8",
   "metadata": {},
   "outputs": [
    {
     "data": {
      "text/plain": [
       "array([[ 1,  2,  3],\n",
       "       [ 4,  4,  5],\n",
       "       [ 6,  7,  7],\n",
       "       [ 8,  9, 10]])"
      ]
     },
     "execution_count": 57,
     "metadata": {},
     "output_type": "execute_result"
    }
   ],
   "source": [
    "New_C=C.reshape(4,3)\n",
    "New_C"
   ]
  },
  {
   "cell_type": "code",
   "execution_count": null,
   "id": "29f806f8",
   "metadata": {},
   "outputs": [],
   "source": []
  },
  {
   "cell_type": "code",
   "execution_count": 59,
   "id": "febf9304",
   "metadata": {},
   "outputs": [
    {
     "data": {
      "text/plain": [
       "array([1, 2, 3, 4])"
      ]
     },
     "execution_count": 59,
     "metadata": {},
     "output_type": "execute_result"
    }
   ],
   "source": [
    "a=np.array(range(1,5))\n",
    "a"
   ]
  },
  {
   "cell_type": "code",
   "execution_count": 60,
   "id": "0c769710",
   "metadata": {},
   "outputs": [
    {
     "name": "stdout",
     "output_type": "stream",
     "text": [
      "4\n",
      "4\n"
     ]
    }
   ],
   "source": [
    "print(a[-1])\n",
    "print(a[3])"
   ]
  },
  {
   "cell_type": "code",
   "execution_count": 61,
   "id": "4647c260",
   "metadata": {},
   "outputs": [
    {
     "name": "stdout",
     "output_type": "stream",
     "text": [
      "2\n",
      "2\n"
     ]
    }
   ],
   "source": [
    "print(a[1])\n",
    "print(a[-3])"
   ]
  },
  {
   "cell_type": "code",
   "execution_count": null,
   "id": "c44ef383",
   "metadata": {},
   "outputs": [],
   "source": []
  },
  {
   "cell_type": "code",
   "execution_count": 62,
   "id": "7c978403",
   "metadata": {},
   "outputs": [
    {
     "data": {
      "text/plain": [
       "array([[1, 2],\n",
       "       [3, 4]])"
      ]
     },
     "execution_count": 62,
     "metadata": {},
     "output_type": "execute_result"
    }
   ],
   "source": [
    "d=[[1,2],[3,4]]\n",
    "D=np.array(d)\n",
    "D"
   ]
  },
  {
   "cell_type": "code",
   "execution_count": 64,
   "id": "3cbfcd79",
   "metadata": {},
   "outputs": [
    {
     "name": "stdout",
     "output_type": "stream",
     "text": [
      "1\n"
     ]
    }
   ],
   "source": [
    "print(D[0,0])"
   ]
  },
  {
   "cell_type": "code",
   "execution_count": 65,
   "id": "eb08b8c3",
   "metadata": {},
   "outputs": [
    {
     "name": "stdout",
     "output_type": "stream",
     "text": [
      "1\n"
     ]
    }
   ],
   "source": [
    "print(D[-2,-2])"
   ]
  },
  {
   "cell_type": "code",
   "execution_count": null,
   "id": "de8c4487",
   "metadata": {},
   "outputs": [],
   "source": []
  },
  {
   "cell_type": "code",
   "execution_count": 66,
   "id": "d1c0af92",
   "metadata": {},
   "outputs": [
    {
     "data": {
      "text/plain": [
       "[[[1, 2, 3], [4, 5, 6], [7, 8, 9]], [[10, 11, 12], [13, 14, 15], [16, 17, 18]]]"
      ]
     },
     "execution_count": 66,
     "metadata": {},
     "output_type": "execute_result"
    }
   ],
   "source": [
    "e=[[[1,2,3],[4,5,6],[7,8,9]],[[10,11,12],[13,14,15],[16,17,18]]]\n",
    "e"
   ]
  },
  {
   "cell_type": "code",
   "execution_count": 67,
   "id": "b2aae32b",
   "metadata": {},
   "outputs": [
    {
     "data": {
      "text/plain": [
       "array([[[ 1,  2,  3],\n",
       "        [ 4,  5,  6],\n",
       "        [ 7,  8,  9]],\n",
       "\n",
       "       [[10, 11, 12],\n",
       "        [13, 14, 15],\n",
       "        [16, 17, 18]]])"
      ]
     },
     "execution_count": 67,
     "metadata": {},
     "output_type": "execute_result"
    }
   ],
   "source": [
    "E=np.array(e)\n",
    "E"
   ]
  },
  {
   "cell_type": "code",
   "execution_count": 68,
   "id": "b867bb51",
   "metadata": {},
   "outputs": [
    {
     "name": "stdout",
     "output_type": "stream",
     "text": [
      "1\n"
     ]
    }
   ],
   "source": [
    "print(E[0][0][0])"
   ]
  },
  {
   "cell_type": "code",
   "execution_count": 70,
   "id": "3d32de38",
   "metadata": {},
   "outputs": [
    {
     "name": "stdout",
     "output_type": "stream",
     "text": [
      "7\n"
     ]
    }
   ],
   "source": [
    "print(E[0][2][0])"
   ]
  },
  {
   "cell_type": "code",
   "execution_count": 1,
   "id": "550dc2c5",
   "metadata": {},
   "outputs": [],
   "source": [
    "import numpy as np"
   ]
  },
  {
   "cell_type": "markdown",
   "id": "60208910",
   "metadata": {},
   "source": [
    "## Slicing Operation"
   ]
  },
  {
   "cell_type": "code",
   "execution_count": 4,
   "id": "decaa9d8",
   "metadata": {},
   "outputs": [
    {
     "data": {
      "text/plain": [
       "array([ 1,  4,  7, 11,  6,  3])"
      ]
     },
     "execution_count": 4,
     "metadata": {},
     "output_type": "execute_result"
    }
   ],
   "source": [
    "a=[1,4,7,11,6,3]\n",
    "A=np.array(a)\n",
    "A"
   ]
  },
  {
   "cell_type": "code",
   "execution_count": 5,
   "id": "e39bf2b5",
   "metadata": {},
   "outputs": [
    {
     "name": "stdout",
     "output_type": "stream",
     "text": [
      "[ 4  7 11]\n"
     ]
    }
   ],
   "source": [
    "# let's get element [4,7,11] from the array A\n",
    "print(A[1:4])"
   ]
  },
  {
   "cell_type": "code",
   "execution_count": 6,
   "id": "d93d50f5",
   "metadata": {},
   "outputs": [
    {
     "name": "stdout",
     "output_type": "stream",
     "text": [
      "[1 4 7]\n"
     ]
    }
   ],
   "source": [
    "# let's get element [1,4,7] from the array A\n",
    "print(A[0:3])"
   ]
  },
  {
   "cell_type": "code",
   "execution_count": 7,
   "id": "3c84c594",
   "metadata": {},
   "outputs": [
    {
     "data": {
      "text/plain": [
       "array([1, 4, 7])"
      ]
     },
     "execution_count": 7,
     "metadata": {},
     "output_type": "execute_result"
    }
   ],
   "source": [
    "# let's get first 3 elements\n",
    "A[:3]"
   ]
  },
  {
   "cell_type": "code",
   "execution_count": 8,
   "id": "94dbb6cb",
   "metadata": {},
   "outputs": [
    {
     "data": {
      "text/plain": [
       "array([ 7, 11,  6,  3])"
      ]
     },
     "execution_count": 8,
     "metadata": {},
     "output_type": "execute_result"
    }
   ],
   "source": [
    "#lets get all element from 2nd index to all\n",
    "A[2:]"
   ]
  },
  {
   "cell_type": "code",
   "execution_count": 9,
   "id": "d601f512",
   "metadata": {},
   "outputs": [
    {
     "data": {
      "text/plain": [
       "array([1, 7, 6])"
      ]
     },
     "execution_count": 9,
     "metadata": {},
     "output_type": "execute_result"
    }
   ],
   "source": [
    "# let's print element with stepsize of 2\n",
    "A[::2]"
   ]
  },
  {
   "cell_type": "code",
   "execution_count": 10,
   "id": "7796e2c3",
   "metadata": {},
   "outputs": [
    {
     "data": {
      "text/plain": [
       "array([ 1,  4,  7, 11,  6,  3])"
      ]
     },
     "execution_count": 10,
     "metadata": {},
     "output_type": "execute_result"
    }
   ],
   "source": [
    "# get all elements\n",
    "A[::]"
   ]
  },
  {
   "cell_type": "code",
   "execution_count": null,
   "id": "a52d4159",
   "metadata": {},
   "outputs": [],
   "source": []
  },
  {
   "cell_type": "code",
   "execution_count": 11,
   "id": "56ea5078",
   "metadata": {},
   "outputs": [
    {
     "data": {
      "text/plain": [
       "array([[  4,   7,  11],\n",
       "       [  6,  13,   9],\n",
       "       [  2,  12, 100]])"
      ]
     },
     "execution_count": 11,
     "metadata": {},
     "output_type": "execute_result"
    }
   ],
   "source": [
    "b=[[4,7,11],[6,13,9],[2,12,100]]\n",
    "B=np.array(b)\n",
    "B"
   ]
  },
  {
   "cell_type": "code",
   "execution_count": 12,
   "id": "dd82f2e6",
   "metadata": {},
   "outputs": [
    {
     "data": {
      "text/plain": [
       "array([[  9],\n",
       "       [100]])"
      ]
     },
     "execution_count": 12,
     "metadata": {},
     "output_type": "execute_result"
    }
   ],
   "source": [
    "#let's get element 9 and 100\n",
    "B[1:3,2:3]"
   ]
  },
  {
   "cell_type": "code",
   "execution_count": 16,
   "id": "8d6186ef",
   "metadata": {},
   "outputs": [
    {
     "data": {
      "text/plain": [
       "array([[ 6, 13],\n",
       "       [ 2, 12]])"
      ]
     },
     "execution_count": 16,
     "metadata": {},
     "output_type": "execute_result"
    }
   ],
   "source": [
    "#lets get sub matrix [[6,13],[2,12]\n",
    "B[1:,0:2]"
   ]
  },
  {
   "cell_type": "code",
   "execution_count": null,
   "id": "3c0ab38b",
   "metadata": {},
   "outputs": [],
   "source": []
  },
  {
   "cell_type": "markdown",
   "id": "2fef258c",
   "metadata": {},
   "source": [
    "## View and Copy"
   ]
  },
  {
   "cell_type": "code",
   "execution_count": 25,
   "id": "8d9f11a1",
   "metadata": {},
   "outputs": [
    {
     "data": {
      "text/plain": [
       "array([10, 20, 30, 40])"
      ]
     },
     "execution_count": 25,
     "metadata": {},
     "output_type": "execute_result"
    }
   ],
   "source": [
    "arr1=np.array([10,20,30,40])\n",
    "arr1"
   ]
  },
  {
   "cell_type": "code",
   "execution_count": 26,
   "id": "cd2f82ff",
   "metadata": {},
   "outputs": [
    {
     "data": {
      "text/plain": [
       "array([10, 20, 30, 40])"
      ]
     },
     "execution_count": 26,
     "metadata": {},
     "output_type": "execute_result"
    }
   ],
   "source": [
    "arr2=arr1.view()\n",
    "arr2"
   ]
  },
  {
   "cell_type": "code",
   "execution_count": 27,
   "id": "0f38b718",
   "metadata": {},
   "outputs": [],
   "source": [
    "arr2[1]=1000"
   ]
  },
  {
   "cell_type": "code",
   "execution_count": 28,
   "id": "b9d0fbdc",
   "metadata": {},
   "outputs": [
    {
     "data": {
      "text/plain": [
       "array([  10, 1000,   30,   40])"
      ]
     },
     "execution_count": 28,
     "metadata": {},
     "output_type": "execute_result"
    }
   ],
   "source": [
    "arr2"
   ]
  },
  {
   "cell_type": "code",
   "execution_count": 29,
   "id": "0373d15b",
   "metadata": {},
   "outputs": [
    {
     "data": {
      "text/plain": [
       "array([  10, 1000,   30,   40])"
      ]
     },
     "execution_count": 29,
     "metadata": {},
     "output_type": "execute_result"
    }
   ],
   "source": [
    "arr1"
   ]
  },
  {
   "cell_type": "code",
   "execution_count": 30,
   "id": "5c434462",
   "metadata": {},
   "outputs": [],
   "source": [
    "# we clearly see that changes made in array2 got reflected in array1"
   ]
  },
  {
   "cell_type": "code",
   "execution_count": null,
   "id": "5fdb976a",
   "metadata": {},
   "outputs": [],
   "source": []
  },
  {
   "cell_type": "code",
   "execution_count": 31,
   "id": "4c6708aa",
   "metadata": {},
   "outputs": [
    {
     "data": {
      "text/plain": [
       "array([10, 20, 30, 40])"
      ]
     },
     "execution_count": 31,
     "metadata": {},
     "output_type": "execute_result"
    }
   ],
   "source": [
    "arr3=np.array([10,20,30,40])\n",
    "arr3"
   ]
  },
  {
   "cell_type": "code",
   "execution_count": 33,
   "id": "e7d063ed",
   "metadata": {},
   "outputs": [
    {
     "data": {
      "text/plain": [
       "array([10, 20, 30, 40])"
      ]
     },
     "execution_count": 33,
     "metadata": {},
     "output_type": "execute_result"
    }
   ],
   "source": [
    "arr4=arr3.copy()\n",
    "arr4"
   ]
  },
  {
   "cell_type": "code",
   "execution_count": 34,
   "id": "7cf16e2d",
   "metadata": {},
   "outputs": [],
   "source": [
    "arr4[1]=1000"
   ]
  },
  {
   "cell_type": "code",
   "execution_count": 35,
   "id": "f683fafa",
   "metadata": {},
   "outputs": [
    {
     "data": {
      "text/plain": [
       "array([  10, 1000,   30,   40])"
      ]
     },
     "execution_count": 35,
     "metadata": {},
     "output_type": "execute_result"
    }
   ],
   "source": [
    "arr4"
   ]
  },
  {
   "cell_type": "code",
   "execution_count": 36,
   "id": "ba9c669b",
   "metadata": {},
   "outputs": [
    {
     "data": {
      "text/plain": [
       "array([10, 20, 30, 40])"
      ]
     },
     "execution_count": 36,
     "metadata": {},
     "output_type": "execute_result"
    }
   ],
   "source": [
    "arr3"
   ]
  },
  {
   "cell_type": "code",
   "execution_count": null,
   "id": "df875515",
   "metadata": {},
   "outputs": [],
   "source": [
    "# Here we clearly see that changes made in array3 not reflected in array4"
   ]
  },
  {
   "cell_type": "markdown",
   "id": "7975d9cd",
   "metadata": {},
   "source": [
    "# Hstack vs Vstack"
   ]
  },
  {
   "cell_type": "code",
   "execution_count": 38,
   "id": "aeac8d70",
   "metadata": {},
   "outputs": [
    {
     "name": "stdout",
     "output_type": "stream",
     "text": [
      "array1 [1 2 3]\n",
      "array2 [4 5 6]\n"
     ]
    }
   ],
   "source": [
    "a=np.array([1,2,3])\n",
    "b=np.array([4,5,6])\n",
    "print('array1',a)\n",
    "print('array2',b)"
   ]
  },
  {
   "cell_type": "code",
   "execution_count": 39,
   "id": "41edc190",
   "metadata": {},
   "outputs": [
    {
     "data": {
      "text/plain": [
       "array([1, 2, 3, 4, 5, 6])"
      ]
     },
     "execution_count": 39,
     "metadata": {},
     "output_type": "execute_result"
    }
   ],
   "source": [
    "c=np.hstack((a,b))       #join horizontally\n",
    "c"
   ]
  },
  {
   "cell_type": "code",
   "execution_count": 40,
   "id": "23403aec",
   "metadata": {},
   "outputs": [
    {
     "data": {
      "text/plain": [
       "array([[1, 2, 3],\n",
       "       [4, 5, 6]])"
      ]
     },
     "execution_count": 40,
     "metadata": {},
     "output_type": "execute_result"
    }
   ],
   "source": [
    "d=np.vstack((a,b))     #join vertically\n",
    "d"
   ]
  },
  {
   "cell_type": "code",
   "execution_count": null,
   "id": "44a50909",
   "metadata": {},
   "outputs": [],
   "source": []
  },
  {
   "cell_type": "markdown",
   "id": "59811baa",
   "metadata": {},
   "source": [
    "## Concatenation"
   ]
  },
  {
   "cell_type": "code",
   "execution_count": 41,
   "id": "5e97c8b1",
   "metadata": {},
   "outputs": [
    {
     "data": {
      "text/plain": [
       "array([[1, 2],\n",
       "       [3, 4]])"
      ]
     },
     "execution_count": 41,
     "metadata": {},
     "output_type": "execute_result"
    }
   ],
   "source": [
    "a1=np.array([[1,2],[3,4]])\n",
    "a1"
   ]
  },
  {
   "cell_type": "code",
   "execution_count": 42,
   "id": "0c760695",
   "metadata": {},
   "outputs": [
    {
     "name": "stdout",
     "output_type": "stream",
     "text": [
      "(2, 2)\n"
     ]
    }
   ],
   "source": [
    "print(a1.shape)"
   ]
  },
  {
   "cell_type": "code",
   "execution_count": 43,
   "id": "df29fc7f",
   "metadata": {},
   "outputs": [
    {
     "data": {
      "text/plain": [
       "array([[7],\n",
       "       [8]])"
      ]
     },
     "execution_count": 43,
     "metadata": {},
     "output_type": "execute_result"
    }
   ],
   "source": [
    "a2=np.array([[7],[8]])\n",
    "a2"
   ]
  },
  {
   "cell_type": "code",
   "execution_count": 44,
   "id": "dd93d845",
   "metadata": {},
   "outputs": [
    {
     "name": "stdout",
     "output_type": "stream",
     "text": [
      "(2, 1)\n"
     ]
    }
   ],
   "source": [
    "print(a2.shape)"
   ]
  },
  {
   "cell_type": "code",
   "execution_count": 46,
   "id": "51b3a0c6",
   "metadata": {},
   "outputs": [
    {
     "data": {
      "text/plain": [
       "array([[ 9, 10]])"
      ]
     },
     "execution_count": 46,
     "metadata": {},
     "output_type": "execute_result"
    }
   ],
   "source": [
    "a3=np.array([[9,10]])\n",
    "a3"
   ]
  },
  {
   "cell_type": "code",
   "execution_count": 47,
   "id": "59ebeae7",
   "metadata": {},
   "outputs": [
    {
     "name": "stdout",
     "output_type": "stream",
     "text": [
      "(1, 2)\n"
     ]
    }
   ],
   "source": [
    "print(a3.shape)"
   ]
  },
  {
   "cell_type": "code",
   "execution_count": 49,
   "id": "e75b9acb",
   "metadata": {},
   "outputs": [
    {
     "data": {
      "text/plain": [
       "array([[ 1,  2],\n",
       "       [ 3,  4],\n",
       "       [ 9, 10]])"
      ]
     },
     "execution_count": 49,
     "metadata": {},
     "output_type": "execute_result"
    }
   ],
   "source": [
    "D1=np.concatenate((a1,a3),axis=0)\n",
    "D1                                       #require same columns"
   ]
  },
  {
   "cell_type": "code",
   "execution_count": 50,
   "id": "f2e0f445",
   "metadata": {},
   "outputs": [
    {
     "data": {
      "text/plain": [
       "array([[1, 2, 7],\n",
       "       [3, 4, 8]])"
      ]
     },
     "execution_count": 50,
     "metadata": {},
     "output_type": "execute_result"
    }
   ],
   "source": [
    "D2=np.concatenate((a1,a2),axis=1)\n",
    "D2                                         #require same rowsz"
   ]
  },
  {
   "cell_type": "code",
   "execution_count": null,
   "id": "6b1bda3f",
   "metadata": {},
   "outputs": [],
   "source": []
  }
 ],
 "metadata": {
  "kernelspec": {
   "display_name": "Python 3 (ipykernel)",
   "language": "python",
   "name": "python3"
  },
  "language_info": {
   "codemirror_mode": {
    "name": "ipython",
    "version": 3
   },
   "file_extension": ".py",
   "mimetype": "text/x-python",
   "name": "python",
   "nbconvert_exporter": "python",
   "pygments_lexer": "ipython3",
   "version": "3.10.9"
  }
 },
 "nbformat": 4,
 "nbformat_minor": 5
}
