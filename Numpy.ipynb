{
 "cells": [
  {
   "cell_type": "code",
   "execution_count": 1,
   "id": "666902e7",
   "metadata": {},
   "outputs": [],
   "source": [
    "import numpy as np"
   ]
  },
  {
   "cell_type": "markdown",
   "id": "1ab20848",
   "metadata": {},
   "source": [
    "## 1D Array"
   ]
  },
  {
   "cell_type": "code",
   "execution_count": 15,
   "id": "ea246d66",
   "metadata": {},
   "outputs": [
    {
     "name": "stdout",
     "output_type": "stream",
     "text": [
      "[1 2 3 4]\n"
     ]
    }
   ],
   "source": [
    "list1=[1,2,3,4]\n",
    "one_D=np.array(list1)\n",
    "print(one_D)"
   ]
  },
  {
   "cell_type": "code",
   "execution_count": 17,
   "id": "310e2eed",
   "metadata": {},
   "outputs": [
    {
     "name": "stdout",
     "output_type": "stream",
     "text": [
      "<class 'numpy.ndarray'>\n"
     ]
    }
   ],
   "source": [
    "print(type(one_D))"
   ]
  },
  {
   "cell_type": "code",
   "execution_count": 18,
   "id": "d1692f4b",
   "metadata": {},
   "outputs": [
    {
     "data": {
      "text/plain": [
       "1"
      ]
     },
     "execution_count": 18,
     "metadata": {},
     "output_type": "execute_result"
    }
   ],
   "source": [
    "one_D.ndim"
   ]
  },
  {
   "cell_type": "markdown",
   "id": "4f865de4",
   "metadata": {},
   "source": [
    "## 2D Array"
   ]
  },
  {
   "cell_type": "code",
   "execution_count": 19,
   "id": "6a013e10",
   "metadata": {},
   "outputs": [
    {
     "name": "stdout",
     "output_type": "stream",
     "text": [
      "[[ 1  2  3  4  5  6  7  8  9 10]]\n"
     ]
    }
   ],
   "source": [
    "list2=list(range(1,11))\n",
    "two_D=np.array([list2])\n",
    "print(two_D)"
   ]
  },
  {
   "cell_type": "code",
   "execution_count": 20,
   "id": "e1a36251",
   "metadata": {},
   "outputs": [
    {
     "name": "stdout",
     "output_type": "stream",
     "text": [
      "<class 'numpy.ndarray'>\n"
     ]
    }
   ],
   "source": [
    "print(type(two_D))"
   ]
  },
  {
   "cell_type": "code",
   "execution_count": 21,
   "id": "da9297b8",
   "metadata": {},
   "outputs": [
    {
     "name": "stdout",
     "output_type": "stream",
     "text": [
      "2\n"
     ]
    }
   ],
   "source": [
    "print(two_D.ndim)"
   ]
  },
  {
   "cell_type": "markdown",
   "id": "27f16ca6",
   "metadata": {},
   "source": [
    "## 3D Array"
   ]
  },
  {
   "cell_type": "code",
   "execution_count": 23,
   "id": "0b558ae9",
   "metadata": {},
   "outputs": [
    {
     "name": "stdout",
     "output_type": "stream",
     "text": [
      "[[[1 2 3]\n",
      "  [4 5 6]\n",
      "  [7 8 9]]]\n"
     ]
    }
   ],
   "source": [
    "list3=[[1,2,3],[4,5,6],[7,8,9]]\n",
    "three_D=np.array([list3])\n",
    "print(three_D)"
   ]
  },
  {
   "cell_type": "code",
   "execution_count": 24,
   "id": "9c0dc48b",
   "metadata": {},
   "outputs": [
    {
     "name": "stdout",
     "output_type": "stream",
     "text": [
      "3\n"
     ]
    }
   ],
   "source": [
    "print(three_D.ndim)"
   ]
  },
  {
   "cell_type": "code",
   "execution_count": 29,
   "id": "23bf3af3",
   "metadata": {},
   "outputs": [],
   "source": [
    "def info(x):\n",
    "    print(\"The type of element is:-\",type(x))\n",
    "    print(\"The dimension of Array is:-\",x.ndim)"
   ]
  },
  {
   "cell_type": "code",
   "execution_count": 30,
   "id": "d6f55b37",
   "metadata": {},
   "outputs": [
    {
     "name": "stdout",
     "output_type": "stream",
     "text": [
      "The type of element is:- <class 'numpy.ndarray'>\n",
      "The dimension of Array is:- 3\n"
     ]
    }
   ],
   "source": [
    "info(three_D)"
   ]
  },
  {
   "cell_type": "code",
   "execution_count": null,
   "id": "248e3990",
   "metadata": {},
   "outputs": [],
   "source": []
  }
 ],
 "metadata": {
  "kernelspec": {
   "display_name": "Python 3 (ipykernel)",
   "language": "python",
   "name": "python3"
  },
  "language_info": {
   "codemirror_mode": {
    "name": "ipython",
    "version": 3
   },
   "file_extension": ".py",
   "mimetype": "text/x-python",
   "name": "python",
   "nbconvert_exporter": "python",
   "pygments_lexer": "ipython3",
   "version": "3.10.9"
  }
 },
 "nbformat": 4,
 "nbformat_minor": 5
}
