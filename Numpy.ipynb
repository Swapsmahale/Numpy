{
 "cells": [
  {
   "cell_type": "code",
   "execution_count": 1,
   "id": "59afb9b1",
   "metadata": {},
   "outputs": [],
   "source": [
    "import numpy as np"
   ]
  },
  {
   "cell_type": "markdown",
   "id": "b78bf795",
   "metadata": {},
   "source": [
    "## 1D Array"
   ]
  },
  {
   "cell_type": "code",
   "execution_count": 15,
   "id": "12ede785",
   "metadata": {},
   "outputs": [
    {
     "name": "stdout",
     "output_type": "stream",
     "text": [
      "[1 2 3 4]\n"
     ]
    }
   ],
   "source": [
    "list1=[1,2,3,4]\n",
    "one_D=np.array(list1)\n",
    "print(one_D)"
   ]
  },
  {
   "cell_type": "code",
   "execution_count": 17,
   "id": "681c79eb",
   "metadata": {},
   "outputs": [
    {
     "name": "stdout",
     "output_type": "stream",
     "text": [
      "<class 'numpy.ndarray'>\n"
     ]
    }
   ],
   "source": [
    "print(type(one_D))"
   ]
  },
  {
   "cell_type": "code",
   "execution_count": 18,
   "id": "490489b2",
   "metadata": {},
   "outputs": [
    {
     "data": {
      "text/plain": [
       "1"
      ]
     },
     "execution_count": 18,
     "metadata": {},
     "output_type": "execute_result"
    }
   ],
   "source": [
    "one_D.ndim"
   ]
  },
  {
   "cell_type": "markdown",
   "id": "093545d5",
   "metadata": {},
   "source": [
    "## 2D Array"
   ]
  },
  {
   "cell_type": "code",
   "execution_count": 19,
   "id": "77435591",
   "metadata": {},
   "outputs": [
    {
     "name": "stdout",
     "output_type": "stream",
     "text": [
      "[[ 1  2  3  4  5  6  7  8  9 10]]\n"
     ]
    }
   ],
   "source": [
    "list2=list(range(1,11))\n",
    "two_D=np.array([list2])\n",
    "print(two_D)"
   ]
  },
  {
   "cell_type": "code",
   "execution_count": 20,
   "id": "553892d7",
   "metadata": {},
   "outputs": [
    {
     "name": "stdout",
     "output_type": "stream",
     "text": [
      "<class 'numpy.ndarray'>\n"
     ]
    }
   ],
   "source": [
    "print(type(two_D))"
   ]
  },
  {
   "cell_type": "code",
   "execution_count": 21,
   "id": "d6ae1b46",
   "metadata": {},
   "outputs": [
    {
     "name": "stdout",
     "output_type": "stream",
     "text": [
      "2\n"
     ]
    }
   ],
   "source": [
    "print(two_D.ndim)"
   ]
  },
  {
   "cell_type": "markdown",
   "id": "23ce720f",
   "metadata": {},
   "source": [
    "## 3D Array"
   ]
  },
  {
   "cell_type": "code",
   "execution_count": 23,
   "id": "00cfc4b1",
   "metadata": {},
   "outputs": [
    {
     "name": "stdout",
     "output_type": "stream",
     "text": [
      "[[[1 2 3]\n",
      "  [4 5 6]\n",
      "  [7 8 9]]]\n"
     ]
    }
   ],
   "source": [
    "list3=[[1,2,3],[4,5,6],[7,8,9]]\n",
    "three_D=np.array([list3])\n",
    "print(three_D)"
   ]
  },
  {
   "cell_type": "code",
   "execution_count": 24,
   "id": "7e27250d",
   "metadata": {},
   "outputs": [
    {
     "name": "stdout",
     "output_type": "stream",
     "text": [
      "3\n"
     ]
    }
   ],
   "source": [
    "print(three_D.ndim)"
   ]
  },
  {
   "cell_type": "code",
   "execution_count": 29,
   "id": "3bacae1f",
   "metadata": {},
   "outputs": [],
   "source": [
    "def info(x):\n",
    "    print(\"The type of element is:-\",type(x))\n",
    "    print(\"The dimension of Array is:-\",x.ndim)"
   ]
  },
  {
   "cell_type": "code",
   "execution_count": 30,
   "id": "87de6aac",
   "metadata": {},
   "outputs": [
    {
     "name": "stdout",
     "output_type": "stream",
     "text": [
      "The type of element is:- <class 'numpy.ndarray'>\n",
      "The dimension of Array is:- 3\n"
     ]
    }
   ],
   "source": [
    "info(three_D)"
   ]
  },
  {
   "cell_type": "code",
   "execution_count": null,
   "id": "8dac6c8d",
   "metadata": {},
   "outputs": [],
   "source": []
  },
  {
   "cell_type": "code",
   "execution_count": 31,
   "id": "7ca2769a",
   "metadata": {},
   "outputs": [
    {
     "data": {
      "text/plain": [
       "[1, 1.5, 'Swapnil']"
      ]
     },
     "execution_count": 31,
     "metadata": {},
     "output_type": "execute_result"
    }
   ],
   "source": [
    "list11=[1,1.5,\"Swapnil\"]\n",
    "list11"
   ]
  },
  {
   "cell_type": "code",
   "execution_count": 32,
   "id": "d782e935",
   "metadata": {},
   "outputs": [],
   "source": [
    "arr=list(range(1,11))\n",
    "numpy=np.array(arr)"
   ]
  },
  {
   "cell_type": "code",
   "execution_count": 33,
   "id": "07018304",
   "metadata": {},
   "outputs": [
    {
     "data": {
      "text/plain": [
       "array([ 1,  2,  3,  4,  5,  6,  7,  8,  9, 10])"
      ]
     },
     "execution_count": 33,
     "metadata": {},
     "output_type": "execute_result"
    }
   ],
   "source": [
    "numpy"
   ]
  },
  {
   "cell_type": "code",
   "execution_count": null,
   "id": "e3184abd",
   "metadata": {},
   "outputs": [],
   "source": []
  },
  {
   "cell_type": "code",
   "execution_count": 35,
   "id": "5c84fb99",
   "metadata": {},
   "outputs": [
    {
     "data": {
      "text/plain": [
       "array(['1', '1.5', 'Swapnil'], dtype='<U32')"
      ]
     },
     "execution_count": 35,
     "metadata": {},
     "output_type": "execute_result"
    }
   ],
   "source": [
    "hetero_numpy=np.array(list11)\n",
    "hetero_numpy"
   ]
  },
  {
   "cell_type": "code",
   "execution_count": 39,
   "id": "4d8ceaa4",
   "metadata": {},
   "outputs": [
    {
     "data": {
      "text/plain": [
       "dtype('<U32')"
      ]
     },
     "execution_count": 39,
     "metadata": {},
     "output_type": "execute_result"
    }
   ],
   "source": [
    "hetero_numpy.dtype"
   ]
  },
  {
   "cell_type": "code",
   "execution_count": null,
   "id": "a3795e2a",
   "metadata": {},
   "outputs": [],
   "source": []
  },
  {
   "cell_type": "code",
   "execution_count": 40,
   "id": "81908556",
   "metadata": {},
   "outputs": [
    {
     "name": "stdout",
     "output_type": "stream",
     "text": [
      "[ 5 10 15 20 25]\n"
     ]
    }
   ],
   "source": [
    "array1=np.array([5,10,15,20,25])\n",
    "print(array1)"
   ]
  },
  {
   "cell_type": "code",
   "execution_count": 41,
   "id": "e37f35ca",
   "metadata": {},
   "outputs": [
    {
     "data": {
      "text/plain": [
       "array([1., 2., 3., 4., 5.])"
      ]
     },
     "execution_count": 41,
     "metadata": {},
     "output_type": "execute_result"
    }
   ],
   "source": [
    "array1/5"
   ]
  },
  {
   "cell_type": "code",
   "execution_count": 42,
   "id": "1ef907f4",
   "metadata": {},
   "outputs": [
    {
     "name": "stdout",
     "output_type": "stream",
     "text": [
      "[5, 10, 15, 20, 25]\n"
     ]
    }
   ],
   "source": [
    "list12=[5,10,15,20,25]\n",
    "print(list12)"
   ]
  },
  {
   "cell_type": "code",
   "execution_count": 43,
   "id": "6edb86cc",
   "metadata": {},
   "outputs": [
    {
     "ename": "TypeError",
     "evalue": "unsupported operand type(s) for /: 'list' and 'int'",
     "output_type": "error",
     "traceback": [
      "\u001b[1;31m---------------------------------------------------------------------------\u001b[0m",
      "\u001b[1;31mTypeError\u001b[0m                                 Traceback (most recent call last)",
      "Cell \u001b[1;32mIn[43], line 1\u001b[0m\n\u001b[1;32m----> 1\u001b[0m \u001b[43mlist12\u001b[49m\u001b[38;5;241;43m/\u001b[39;49m\u001b[38;5;241;43m5\u001b[39;49m\n",
      "\u001b[1;31mTypeError\u001b[0m: unsupported operand type(s) for /: 'list' and 'int'"
     ]
    }
   ],
   "source": [
    "list12/5"
   ]
  },
  {
   "cell_type": "code",
   "execution_count": null,
   "id": "4bfb5a0d",
   "metadata": {},
   "outputs": [],
   "source": []
  }
 ],
 "metadata": {
  "kernelspec": {
   "display_name": "Python 3 (ipykernel)",
   "language": "python",
   "name": "python3"
  },
  "language_info": {
   "codemirror_mode": {
    "name": "ipython",
    "version": 3
   },
   "file_extension": ".py",
   "mimetype": "text/x-python",
   "name": "python",
   "nbconvert_exporter": "python",
   "pygments_lexer": "ipython3",
   "version": "3.10.9"
  }
 },
 "nbformat": 4,
 "nbformat_minor": 5
}
